{
 "cells": [
  {
   "cell_type": "code",
   "execution_count": 2,
   "id": "e45cca78",
   "metadata": {},
   "outputs": [
    {
     "data": {
      "text/plain": [
       "['departments',\n",
       " 'cities',\n",
       " 'rivers',\n",
       " 'border',\n",
       " 'provincias',\n",
       " 'municipios',\n",
       " 'airports']"
      ]
     },
     "execution_count": 2,
     "metadata": {},
     "output_type": "execute_result"
    }
   ],
   "source": [
    "BoliviaMapsLink=\"https://github.com/FabianRomero20/geodfprepro1.2/raw/main/maps/BoliviaMaps_32719.gpkg\"\n",
    "\n",
    "from  fiona import listlayers\n",
    "\n",
    "\n",
    "#layers in maps\n",
    "listlayers(BoliviaMapsLink)"
   ]
  },
  {
   "cell_type": "code",
   "execution_count": 4,
   "id": "93795582",
   "metadata": {},
   "outputs": [],
   "source": [
    "# reading in the data:\n",
    "\n",
    "import os\n",
    "os.environ['USE_PYGEOS'] = '0'\n",
    "\n",
    "import geopandas as gpd\n",
    "\n",
    "departments=gpd.read_file(BoliviaMapsLink,layer='departments')\n",
    "provincias=gpd.read_file(BoliviaMapsLink,layer='provincias')\n",
    "municipios=gpd.read_file(BoliviaMapsLink,layer='municipios')\n",
    "cities=gpd.read_file(BoliviaMapsLink,layer='cities')\n",
    "airports=gpd.read_file(BoliviaMapsLink,layer='airports')\n",
    "rivers=gpd.read_file(BoliviaMapsLink,layer='rivers')\n",
    "border=gpd.read_file(BoliviaMapsLink,layer='border')"
   ]
  },
  {
   "cell_type": "code",
   "execution_count": null,
   "id": "117ed92b",
   "metadata": {},
   "outputs": [],
   "source": [
    "import pandas as pd \n",
    "infoseaports=pd.read_csv(os.path.join(\"data\",\"UpdatedPub150.csv\"))\n",
    "\n",
    "#columns available (so many)\n",
    "infoseaports.columns.to_list()"
   ]
  }
 ],
 "metadata": {
  "kernelspec": {
   "display_name": "Python 3 (ipykernel)",
   "language": "python",
   "name": "python3"
  },
  "language_info": {
   "codemirror_mode": {
    "name": "ipython",
    "version": 3
   },
   "file_extension": ".py",
   "mimetype": "text/x-python",
   "name": "python",
   "nbconvert_exporter": "python",
   "pygments_lexer": "ipython3",
   "version": "3.9.13"
  }
 },
 "nbformat": 4,
 "nbformat_minor": 5
}
