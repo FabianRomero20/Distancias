{
 "cells": [
  {
   "cell_type": "code",
   "execution_count": 1,
   "id": "4436b40d",
   "metadata": {},
   "outputs": [
    {
     "data": {
      "text/plain": [
       "['country',\n",
       " 'cities',\n",
       " 'rivers',\n",
       " 'border',\n",
       " 'states',\n",
       " 'municipalities',\n",
       " 'airports']"
      ]
     },
     "execution_count": 1,
     "metadata": {},
     "output_type": "execute_result"
    }
   ],
   "source": [
    "brazilMapsLink=\"https://github.com/CienciaDeDatosEspacial/code_and_data/raw/main/maps/brazilMaps_5641.gpkg\"\n",
    "\n",
    "from  fiona import listlayers\n",
    "\n",
    "\n",
    "#layers in maps\n",
    "listlayers(brazilMapsLink)"
   ]
  },
  {
   "cell_type": "code",
   "execution_count": 2,
   "id": "be5bac01",
   "metadata": {},
   "outputs": [],
   "source": [
    "# reading in the data:\n",
    "\n",
    "import os\n",
    "os.environ['USE_PYGEOS'] = '0'\n",
    "\n",
    "import geopandas as gpd\n",
    "\n",
    "states=gpd.read_file(brazilMapsLink,layer='states')\n",
    "municipalities=gpd.read_file(brazilMapsLink,layer='municipalities')\n",
    "airports=gpd.read_file(brazilMapsLink,layer='airports')\n",
    "rivers=gpd.read_file(brazilMapsLink,layer='rivers')\n",
    "border=gpd.read_file(brazilMapsLink,layer='border')"
   ]
  },
  {
   "cell_type": "code",
   "execution_count": 3,
   "id": "1844edb0",
   "metadata": {},
   "outputs": [
    {
     "data": {
      "text/plain": [
       "['World Port Index Number',\n",
       " 'Region Name',\n",
       " 'Main Port Name',\n",
       " 'Alternate Port Name',\n",
       " 'UN/LOCODE',\n",
       " 'Country Code',\n",
       " 'World Water Body',\n",
       " 'IHO S-130 Sea Area',\n",
       " 'Sailing Direction or Publication',\n",
       " 'Publication Link',\n",
       " 'Standard Nautical Chart',\n",
       " 'IHO S-57 Electronic Navigational Chart',\n",
       " 'IHO S-101 Electronic Navigational Chart',\n",
       " 'Digital Nautical Chart',\n",
       " 'Tidal Range (m)',\n",
       " 'Entrance Width (m)',\n",
       " 'Channel Depth (m)',\n",
       " 'Anchorage Depth (m)',\n",
       " 'Cargo Pier Depth (m)',\n",
       " 'Oil Terminal Depth (m)',\n",
       " 'Liquified Natural Gas Terminal Depth (m)',\n",
       " 'Maximum Vessel Length (m)',\n",
       " 'Maximum Vessel Beam (m)',\n",
       " 'Maximum Vessel Draft (m)',\n",
       " 'Offshore Maximum Vessel Length (m)',\n",
       " 'Offshore Maximum Vessel Beam (m)',\n",
       " 'Offshore Maximum Vessel Draft (m)',\n",
       " 'Harbor Size',\n",
       " 'Harbor Type',\n",
       " 'Harbor Use',\n",
       " 'Shelter Afforded',\n",
       " 'Entrance Restriction - Tide',\n",
       " 'Entrance Restriction - Heavy Swell',\n",
       " 'Entrance Restriction - Ice',\n",
       " 'Entrance Restriction - Other',\n",
       " 'Overhead Limits',\n",
       " 'Underkeel Clearance Management System',\n",
       " 'Good Holding Ground',\n",
       " 'Turning Area',\n",
       " 'Port Security',\n",
       " 'Estimated Time of Arrival Message',\n",
       " 'Quarantine - Pratique',\n",
       " 'Quarantine - Sanitation',\n",
       " 'Quarantine - Other',\n",
       " 'Traffic Separation Scheme',\n",
       " 'Vessel Traffic Service',\n",
       " 'First Port of Entry',\n",
       " 'US Representative',\n",
       " 'Pilotage - Compulsory',\n",
       " 'Pilotage - Available',\n",
       " 'Pilotage - Local Assistance',\n",
       " 'Pilotage - Advisable',\n",
       " 'Tugs - Salvage',\n",
       " 'Tugs - Assistance',\n",
       " 'Communications - Telephone',\n",
       " 'Communications - Telefax',\n",
       " 'Communications - Radio',\n",
       " 'Communications - Radiotelephone',\n",
       " 'Communications - Airport',\n",
       " 'Communications - Rail',\n",
       " 'Search and Rescue',\n",
       " 'NAVAREA',\n",
       " 'Facilities - Wharves',\n",
       " 'Facilities - Anchorage',\n",
       " 'Facilities - Dangerous Cargo Anchorage',\n",
       " 'Facilities - Med Mooring',\n",
       " 'Facilities - Beach Mooring',\n",
       " 'Facilities - Ice Mooring',\n",
       " 'Facilities - Ro-Ro',\n",
       " 'Facilities - Solid Bulk',\n",
       " 'Facilities - Liquid Bulk',\n",
       " 'Facilities - Container',\n",
       " 'Facilities - Breakbulk',\n",
       " 'Facilities - Oil Terminal',\n",
       " 'Facilities - LNG Terminal',\n",
       " 'Facilities - Other',\n",
       " 'Medical Facilities',\n",
       " 'Garbage Disposal',\n",
       " 'Chemical Holding Tank Disposal',\n",
       " 'Degaussing',\n",
       " 'Dirty Ballast Disposal',\n",
       " 'Cranes - Fixed',\n",
       " 'Cranes - Mobile',\n",
       " 'Cranes - Floating',\n",
       " 'Cranes - Container',\n",
       " 'Lifts - 100+ Tons',\n",
       " 'Lifts - 50-100 Tons',\n",
       " 'Lifts - 25-49 Tons',\n",
       " 'Lifts - 0-24 Tons',\n",
       " 'Services - Longshoremen',\n",
       " 'Services - Electricity',\n",
       " 'Services - Steam',\n",
       " 'Services - Navigation Equipment',\n",
       " 'Services - Electrical Repair',\n",
       " 'Services - Ice Breaking',\n",
       " 'Services - Diving',\n",
       " 'Supplies - Provisions',\n",
       " 'Supplies - Potable Water',\n",
       " 'Supplies - Fuel Oil',\n",
       " 'Supplies - Diesel Oil',\n",
       " 'Supplies - Aviation Fuel',\n",
       " 'Supplies - Deck',\n",
       " 'Supplies - Engine',\n",
       " 'Repairs',\n",
       " 'Dry Dock',\n",
       " 'Railway',\n",
       " 'Latitude',\n",
       " 'Longitude']"
      ]
     },
     "execution_count": 3,
     "metadata": {},
     "output_type": "execute_result"
    }
   ],
   "source": [
    "import pandas as pd \n",
    "infoseaports=pd.read_csv(os.path.join(\"data\",\"UpdatedPub150.csv\"))\n",
    "\n",
    "#columns available (so many)\n",
    "infoseaports.columns.to_list()"
   ]
  },
  {
   "cell_type": "code",
   "execution_count": 4,
   "id": "41f0eeea",
   "metadata": {},
   "outputs": [
    {
     "name": "stdout",
     "output_type": "stream",
     "text": [
      "<class 'pandas.core.frame.DataFrame'>\n",
      "RangeIndex: 3774 entries, 0 to 3773\n",
      "Data columns (total 4 columns):\n",
      " #   Column        Non-Null Count  Dtype  \n",
      "---  ------        --------------  -----  \n",
      " 0   portName      3774 non-null   object \n",
      " 1   Country Code  3774 non-null   object \n",
      " 2   Latitude      3774 non-null   float64\n",
      " 3   Longitude     3774 non-null   float64\n",
      "dtypes: float64(2), object(2)\n",
      "memory usage: 118.1+ KB\n"
     ]
    }
   ],
   "source": [
    "infoseaports.rename(columns={'Main Port Name':'portName'},inplace=True)\n",
    "infoseaports=infoseaports.loc[:,['portName', 'Country Code','Latitude', 'Longitude']]\n",
    "infoseaports.info()"
   ]
  },
  {
   "cell_type": "code",
   "execution_count": 5,
   "id": "5beec775",
   "metadata": {},
   "outputs": [],
   "source": [
    "seaports=gpd.GeoDataFrame(data=infoseaports.copy(),\n",
    "                 geometry=gpd.points_from_xy(infoseaports.Longitude,\n",
    "                                             infoseaports.Latitude), \n",
    "                 crs=4326)# notice it is unprojected\n",
    "\n",
    "seaports_bra=seaports[seaports['Country Code']=='Brazil'].copy()\n",
    "\n",
    "seaports_bra.reset_index(drop=True, inplace=True)\n",
    "\n",
    "seaports_bra_5641=seaports_bra.to_crs(5641) # projected crs"
   ]
  },
  {
   "cell_type": "code",
   "execution_count": 6,
   "id": "f370ec0a",
   "metadata": {},
   "outputs": [
    {
     "data": {
      "text/plain": [
       "<Axes: >"
      ]
     },
     "execution_count": 6,
     "metadata": {},
     "output_type": "execute_result"
    },
    {
     "data": {
      "image/png": "[encoded data removed]",
      "text/plain": [
       "<Figure size 640x480 with 1 Axes>"
      ]
     },
     "metadata": {},
     "output_type": "display_data"
    }
   ],
   "source": [
    "# subsetting\n",
    "largeAirports=airports[airports.kind=='large_airport'] \n",
    "largeAirports.reset_index(drop=True, inplace=True)\n",
    "\n",
    "#plotting\n",
    "base=largeAirports.plot(color='red',marker=\"^\")\n",
    "seaports_bra_5641.plot(ax=base,alpha=0.5,markersize=3)"
   ]
  },
  {
   "cell_type": "code",
   "execution_count": null,
   "id": "938a2d48",
   "metadata": {},
   "outputs": [],
   "source": []
  }
 ],
 "metadata": {
  "kernelspec": {
   "display_name": "Python 3 (ipykernel)",
   "language": "python",
   "name": "python3"
  },
  "language_info": {
   "codemirror_mode": {
    "name": "ipython",
    "version": 3
   },
   "file_extension": ".py",
   "mimetype": "text/x-python",
   "name": "python",
   "nbconvert_exporter": "python",
   "pygments_lexer": "ipython3",
   "version": "3.9.13"
  }
 },
 "nbformat": 4,
 "nbformat_minor": 5
}
