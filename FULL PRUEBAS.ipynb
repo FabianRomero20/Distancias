{
 "cells": [
  {
   "cell_type": "code",
   "execution_count": 22,
   "id": "d6adcd6e",
   "metadata": {},
   "outputs": [
    {
     "data": {
      "text/plain": [
       "['country',\n",
       " 'cities',\n",
       " 'rivers',\n",
       " 'border',\n",
       " 'states',\n",
       " 'municipalities',\n",
       " 'airports']"
      ]
     },
     "execution_count": 22,
     "metadata": {},
     "output_type": "execute_result"
    }
   ],
   "source": [
    "brazilMapsLink=\"https://github.com/CienciaDeDatosEspacial/code_and_data/raw/main/maps/brazilMaps_5641.gpkg\"\n",
    "\n",
    "from  fiona import listlayers\n",
    "\n",
    "\n",
    "#layers in maps\n",
    "listlayers(brazilMapsLink)"
   ]
  },
  {
   "cell_type": "code",
   "execution_count": null,
   "id": "da14af59",
   "metadata": {},
   "outputs": [],
   "source": [
    "# reading in the data:\n",
    "\n",
    "import os\n",
    "os.environ['USE_PYGEOS'] = '0'\n",
    "\n",
    "import geopandas as gpd\n",
    "\n",
    "states=gpd.read_file(brazilMapsLink,layer='states')\n",
    "municipalities=gpd.read_file(brazilMapsLink,layer='municipalities')\n",
    "airports=gpd.read_file(brazilMapsLink,layer='airports')\n",
    "rivers=gpd.read_file(brazilMapsLink,layer='rivers')\n",
    "border=gpd.read_file(brazilMapsLink,layer='border')"
   ]
  },
  {
   "cell_type": "code",
   "execution_count": null,
   "id": "4ba82624",
   "metadata": {},
   "outputs": [],
   "source": []
  }
 ],
 "metadata": {
  "kernelspec": {
   "display_name": "Python 3 (ipykernel)",
   "language": "python",
   "name": "python3"
  },
  "language_info": {
   "codemirror_mode": {
    "name": "ipython",
    "version": 3
   },
   "file_extension": ".py",
   "mimetype": "text/x-python",
   "name": "python",
   "nbconvert_exporter": "python",
   "pygments_lexer": "ipython3",
   "version": "3.9.13"
  }
 },
 "nbformat": 4,
 "nbformat_minor": 5
}
